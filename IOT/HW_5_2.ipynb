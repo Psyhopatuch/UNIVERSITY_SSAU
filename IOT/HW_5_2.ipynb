{
 "cells": [
  {
   "cell_type": "code",
   "id": "initial_id",
   "metadata": {
    "collapsed": true,
    "ExecuteTime": {
     "end_time": "2024-12-14T09:30:21.271558Z",
     "start_time": "2024-12-14T09:30:20.895347Z"
    }
   },
   "source": [
    "import pandas as pd\n",
    "from sklearn.metrics import classification_report as report\n",
    "from sklearn.datasets import load_iris \n",
    "from sklearn.model_selection import train_test_split\n",
    "from sklearn.neighbors import KNeighborsClassifier\n",
    "from sklearn.linear_model import LogisticRegression\n",
    "from sklearn.svm import SVC\n",
    "import time"
   ],
   "outputs": [],
   "execution_count": 1
  },
  {
   "metadata": {
    "ExecuteTime": {
     "end_time": "2024-12-14T09:30:21.287565Z",
     "start_time": "2024-12-14T09:30:21.273561Z"
    }
   },
   "cell_type": "code",
   "source": [
    "iris = load_iris()\n",
    "X_df = pd.DataFrame(iris.data, columns=iris.feature_names)\n",
    "y_s = iris.target_names[iris.target]\n",
    "X_train, X_test, y_train, y_test = train_test_split(X_df, y_s, test_size=0.3, random_state=42)"
   ],
   "id": "37aea11218e6a28e",
   "outputs": [],
   "execution_count": 2
  },
  {
   "metadata": {
    "ExecuteTime": {
     "end_time": "2024-12-14T09:30:21.413243Z",
     "start_time": "2024-12-14T09:30:21.397372Z"
    }
   },
   "cell_type": "code",
   "source": [
    "t_start = time.time()\n",
    "md=(KNeighborsClassifier(n_neighbors=3).fit(X_train, y_train))\n",
    "t_end = time.time()\n",
    "y_pred = md.predict(X_test)\n",
    "print(report(y_test, y_pred))\n",
    "print(\"time: \", t_end-t_start)"
   ],
   "id": "1a4e2e47937424f1",
   "outputs": [
    {
     "name": "stdout",
     "output_type": "stream",
     "text": [
      "              precision    recall  f1-score   support\n",
      "\n",
      "      setosa       1.00      1.00      1.00        19\n",
      "  versicolor       1.00      1.00      1.00        13\n",
      "   virginica       1.00      1.00      1.00        13\n",
      "\n",
      "    accuracy                           1.00        45\n",
      "   macro avg       1.00      1.00      1.00        45\n",
      "weighted avg       1.00      1.00      1.00        45\n",
      "\n",
      "time:  0.0\n"
     ]
    }
   ],
   "execution_count": 3
  },
  {
   "metadata": {
    "ExecuteTime": {
     "end_time": "2024-12-14T09:30:21.509289Z",
     "start_time": "2024-12-14T09:30:21.482208Z"
    }
   },
   "cell_type": "code",
   "source": [
    "t_start = time.time()\n",
    "md=LogisticRegression().fit(X_train, y_train)\n",
    "t_end = time.time()\n",
    "y_pred = md.predict(X_test)\n",
    "print(report(y_test, y_pred))\n",
    "print(\"time: \", t_end-t_start)"
   ],
   "id": "3ac6dc2a9dfd7321",
   "outputs": [
    {
     "name": "stdout",
     "output_type": "stream",
     "text": [
      "              precision    recall  f1-score   support\n",
      "\n",
      "      setosa       1.00      1.00      1.00        19\n",
      "  versicolor       1.00      1.00      1.00        13\n",
      "   virginica       1.00      1.00      1.00        13\n",
      "\n",
      "    accuracy                           1.00        45\n",
      "   macro avg       1.00      1.00      1.00        45\n",
      "weighted avg       1.00      1.00      1.00        45\n",
      "\n",
      "time:  0.014068603515625\n"
     ]
    }
   ],
   "execution_count": 4
  },
  {
   "metadata": {
    "ExecuteTime": {
     "end_time": "2024-12-14T09:30:21.557333Z",
     "start_time": "2024-12-14T09:30:21.527306Z"
    }
   },
   "cell_type": "code",
   "source": [
    "t_start = time.time()\n",
    "md=SVC(kernel='sigmoid').fit(X_train, y_train)\n",
    "t_end = time.time()\n",
    "y_pred = md.predict(X_test)\n",
    "print(report(y_test, y_pred,zero_division=1))\n",
    "print(\"time: \", t_end-t_start)"
   ],
   "id": "bc4e91d4458e2a56",
   "outputs": [
    {
     "name": "stdout",
     "output_type": "stream",
     "text": [
      "              precision    recall  f1-score   support\n",
      "\n",
      "      setosa       1.00      0.00      0.00        19\n",
      "  versicolor       0.43      0.77      0.56        13\n",
      "   virginica       0.00      0.00      0.00        13\n",
      "\n",
      "    accuracy                           0.22        45\n",
      "   macro avg       0.48      0.26      0.19        45\n",
      "weighted avg       0.55      0.22      0.16        45\n",
      "\n",
      "time:  0.008007049560546875\n"
     ]
    }
   ],
   "execution_count": 5
  }
 ],
 "metadata": {
  "kernelspec": {
   "display_name": "Python 3",
   "language": "python",
   "name": "python3"
  },
  "language_info": {
   "codemirror_mode": {
    "name": "ipython",
    "version": 2
   },
   "file_extension": ".py",
   "mimetype": "text/x-python",
   "name": "python",
   "nbconvert_exporter": "python",
   "pygments_lexer": "ipython2",
   "version": "2.7.6"
  }
 },
 "nbformat": 4,
 "nbformat_minor": 5
}
