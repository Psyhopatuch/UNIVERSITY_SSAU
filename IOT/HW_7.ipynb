{
 "cells": [
  {
   "cell_type": "code",
   "id": "initial_id",
   "metadata": {
    "collapsed": true,
    "ExecuteTime": {
     "end_time": "2024-12-15T14:17:31.803225Z",
     "start_time": "2024-12-15T14:17:31.787599Z"
    }
   },
   "source": [
    "from keras.models import Sequential\n",
    "from keras.utils import to_categorical\n",
    "from keras.layers import Dense\n",
    "import pandas as pd\n",
    "from sklearn.datasets import load_iris\n",
    "from sklearn.preprocessing import StandardScaler\n",
    "from tensorflow.python.ops.gen_batch_ops import batch"
   ],
   "outputs": [],
   "execution_count": 819
  },
  {
   "metadata": {},
   "cell_type": "markdown",
   "source": "Подгружаем ирисы",
   "id": "d6279e7dccd9a964"
  },
  {
   "metadata": {
    "ExecuteTime": {
     "end_time": "2024-12-15T14:17:31.818851Z",
     "start_time": "2024-12-15T14:17:31.803225Z"
    }
   },
   "cell_type": "code",
   "source": [
    "iris = load_iris()\n",
    "X = iris.data\n",
    "y = iris.target"
   ],
   "id": "9c34f117f8abc24f",
   "outputs": [],
   "execution_count": 820
  },
  {
   "metadata": {},
   "cell_type": "markdown",
   "source": "Нормировка",
   "id": "fe812f132a7c81fc"
  },
  {
   "metadata": {
    "ExecuteTime": {
     "end_time": "2024-12-15T14:17:31.839374Z",
     "start_time": "2024-12-15T14:17:31.834859Z"
    }
   },
   "cell_type": "code",
   "source": [
    "scaler=StandardScaler()\n",
    "scaled=scaler.fit_transform(X)"
   ],
   "id": "cc05553ac79686e9",
   "outputs": [],
   "execution_count": 821
  },
  {
   "metadata": {},
   "cell_type": "markdown",
   "source": "",
   "id": "51bc8556f6341bd0"
  },
  {
   "metadata": {
    "ExecuteTime": {
     "end_time": "2024-12-15T14:17:31.876700Z",
     "start_time": "2024-12-15T14:17:31.856018Z"
    }
   },
   "cell_type": "code",
   "source": [
    "md = Sequential()\n",
    "md.add(Dense(4, activation='relu'))\n",
    "md.add(Dense(16, activation='relu'))\n",
    "md.add(Dense(32, activation='relu'))\n",
    "md.add(Dense(3, activation='softmax'))"
   ],
   "id": "dce60fcdcef2442a",
   "outputs": [],
   "execution_count": 822
  },
  {
   "metadata": {
    "ExecuteTime": {
     "end_time": "2024-12-15T14:17:31.897528Z",
     "start_time": "2024-12-15T14:17:31.892327Z"
    }
   },
   "cell_type": "code",
   "source": "md.compile(loss='sparse_categorical_crossentropy', optimizer='adam', metrics=['accuracy'])",
   "id": "9b48136b7eceae3e",
   "outputs": [],
   "execution_count": 823
  },
  {
   "metadata": {
    "ExecuteTime": {
     "end_time": "2024-12-15T14:17:52.696199Z",
     "start_time": "2024-12-15T14:17:31.913175Z"
    }
   },
   "cell_type": "code",
   "source": "md.fit(scaled, y, epochs=150, batch_size=1, verbose=1)",
   "id": "9226acded7c9572b",
   "outputs": [
    {
     "name": "stdout",
     "output_type": "stream",
     "text": [
      "Epoch 1/150\n",
      "\u001B[1m150/150\u001B[0m \u001B[32m━━━━━━━━━━━━━━━━━━━━\u001B[0m\u001B[37m\u001B[0m \u001B[1m1s\u001B[0m 747us/step - accuracy: 0.4505 - loss: 1.0543\n",
      "Epoch 2/150\n",
      "\u001B[1m150/150\u001B[0m \u001B[32m━━━━━━━━━━━━━━━━━━━━\u001B[0m\u001B[37m\u001B[0m \u001B[1m0s\u001B[0m 773us/step - accuracy: 0.8017 - loss: 0.6609\n",
      "Epoch 3/150\n",
      "\u001B[1m150/150\u001B[0m \u001B[32m━━━━━━━━━━━━━━━━━━━━\u001B[0m\u001B[37m\u001B[0m \u001B[1m0s\u001B[0m 789us/step - accuracy: 0.8672 - loss: 0.3934\n",
      "Epoch 4/150\n",
      "\u001B[1m150/150\u001B[0m \u001B[32m━━━━━━━━━━━━━━━━━━━━\u001B[0m\u001B[37m\u001B[0m \u001B[1m0s\u001B[0m 775us/step - accuracy: 0.8938 - loss: 0.3093\n",
      "Epoch 5/150\n",
      "\u001B[1m150/150\u001B[0m \u001B[32m━━━━━━━━━━━━━━━━━━━━\u001B[0m\u001B[37m\u001B[0m \u001B[1m0s\u001B[0m 786us/step - accuracy: 0.8610 - loss: 0.2719\n",
      "Epoch 6/150\n",
      "\u001B[1m150/150\u001B[0m \u001B[32m━━━━━━━━━━━━━━━━━━━━\u001B[0m\u001B[37m\u001B[0m \u001B[1m0s\u001B[0m 788us/step - accuracy: 0.9188 - loss: 0.2486\n",
      "Epoch 7/150\n",
      "\u001B[1m150/150\u001B[0m \u001B[32m━━━━━━━━━━━━━━━━━━━━\u001B[0m\u001B[37m\u001B[0m \u001B[1m0s\u001B[0m 782us/step - accuracy: 0.9537 - loss: 0.1704\n",
      "Epoch 8/150\n",
      "\u001B[1m150/150\u001B[0m \u001B[32m━━━━━━━━━━━━━━━━━━━━\u001B[0m\u001B[37m\u001B[0m \u001B[1m0s\u001B[0m 775us/step - accuracy: 0.9805 - loss: 0.1079\n",
      "Epoch 9/150\n",
      "\u001B[1m150/150\u001B[0m \u001B[32m━━━━━━━━━━━━━━━━━━━━\u001B[0m\u001B[37m\u001B[0m \u001B[1m0s\u001B[0m 743us/step - accuracy: 0.9555 - loss: 0.1372\n",
      "Epoch 10/150\n",
      "\u001B[1m150/150\u001B[0m \u001B[32m━━━━━━━━━━━━━━━━━━━━\u001B[0m\u001B[37m\u001B[0m \u001B[1m0s\u001B[0m 777us/step - accuracy: 0.9813 - loss: 0.1013\n",
      "Epoch 11/150\n",
      "\u001B[1m150/150\u001B[0m \u001B[32m━━━━━━━━━━━━━━━━━━━━\u001B[0m\u001B[37m\u001B[0m \u001B[1m0s\u001B[0m 762us/step - accuracy: 0.9478 - loss: 0.0985\n",
      "Epoch 12/150\n",
      "\u001B[1m150/150\u001B[0m \u001B[32m━━━━━━━━━━━━━━━━━━━━\u001B[0m\u001B[37m\u001B[0m \u001B[1m0s\u001B[0m 866us/step - accuracy: 0.9916 - loss: 0.0517\n",
      "Epoch 13/150\n",
      "\u001B[1m150/150\u001B[0m \u001B[32m━━━━━━━━━━━━━━━━━━━━\u001B[0m\u001B[37m\u001B[0m \u001B[1m0s\u001B[0m 745us/step - accuracy: 0.9760 - loss: 0.1112\n",
      "Epoch 14/150\n",
      "\u001B[1m150/150\u001B[0m \u001B[32m━━━━━━━━━━━━━━━━━━━━\u001B[0m\u001B[37m\u001B[0m \u001B[1m0s\u001B[0m 896us/step - accuracy: 0.9853 - loss: 0.0680\n",
      "Epoch 15/150\n",
      "\u001B[1m150/150\u001B[0m \u001B[32m━━━━━━━━━━━━━━━━━━━━\u001B[0m\u001B[37m\u001B[0m \u001B[1m0s\u001B[0m 768us/step - accuracy: 0.9639 - loss: 0.0751\n",
      "Epoch 16/150\n",
      "\u001B[1m150/150\u001B[0m \u001B[32m━━━━━━━━━━━━━━━━━━━━\u001B[0m\u001B[37m\u001B[0m \u001B[1m0s\u001B[0m 769us/step - accuracy: 0.9669 - loss: 0.0869\n",
      "Epoch 17/150\n",
      "\u001B[1m150/150\u001B[0m \u001B[32m━━━━━━━━━━━━━━━━━━━━\u001B[0m\u001B[37m\u001B[0m \u001B[1m0s\u001B[0m 787us/step - accuracy: 0.9820 - loss: 0.0567\n",
      "Epoch 18/150\n",
      "\u001B[1m150/150\u001B[0m \u001B[32m━━━━━━━━━━━━━━━━━━━━\u001B[0m\u001B[37m\u001B[0m \u001B[1m0s\u001B[0m 790us/step - accuracy: 0.9772 - loss: 0.0484\n",
      "Epoch 19/150\n",
      "\u001B[1m150/150\u001B[0m \u001B[32m━━━━━━━━━━━━━━━━━━━━\u001B[0m\u001B[37m\u001B[0m \u001B[1m0s\u001B[0m 753us/step - accuracy: 0.9401 - loss: 0.1119\n",
      "Epoch 20/150\n",
      "\u001B[1m150/150\u001B[0m \u001B[32m━━━━━━━━━━━━━━━━━━━━\u001B[0m\u001B[37m\u001B[0m \u001B[1m0s\u001B[0m 805us/step - accuracy: 0.9834 - loss: 0.0431\n",
      "Epoch 21/150\n",
      "\u001B[1m150/150\u001B[0m \u001B[32m━━━━━━━━━━━━━━━━━━━━\u001B[0m\u001B[37m\u001B[0m \u001B[1m0s\u001B[0m 790us/step - accuracy: 0.9894 - loss: 0.0363\n",
      "Epoch 22/150\n",
      "\u001B[1m150/150\u001B[0m \u001B[32m━━━━━━━━━━━━━━━━━━━━\u001B[0m\u001B[37m\u001B[0m \u001B[1m0s\u001B[0m 768us/step - accuracy: 0.9720 - loss: 0.0554\n",
      "Epoch 23/150\n",
      "\u001B[1m150/150\u001B[0m \u001B[32m━━━━━━━━━━━━━━━━━━━━\u001B[0m\u001B[37m\u001B[0m \u001B[1m0s\u001B[0m 817us/step - accuracy: 0.9871 - loss: 0.0343\n",
      "Epoch 24/150\n",
      "\u001B[1m150/150\u001B[0m \u001B[32m━━━━━━━━━━━━━━━━━━━━\u001B[0m\u001B[37m\u001B[0m \u001B[1m0s\u001B[0m 802us/step - accuracy: 0.9845 - loss: 0.0429\n",
      "Epoch 25/150\n",
      "\u001B[1m150/150\u001B[0m \u001B[32m━━━━━━━━━━━━━━━━━━━━\u001B[0m\u001B[37m\u001B[0m \u001B[1m0s\u001B[0m 710us/step - accuracy: 0.9875 - loss: 0.0426\n",
      "Epoch 26/150\n",
      "\u001B[1m150/150\u001B[0m \u001B[32m━━━━━━━━━━━━━━━━━━━━\u001B[0m\u001B[37m\u001B[0m \u001B[1m0s\u001B[0m 744us/step - accuracy: 0.9760 - loss: 0.0561\n",
      "Epoch 27/150\n",
      "\u001B[1m150/150\u001B[0m \u001B[32m━━━━━━━━━━━━━━━━━━━━\u001B[0m\u001B[37m\u001B[0m \u001B[1m0s\u001B[0m 779us/step - accuracy: 0.9796 - loss: 0.0404\n",
      "Epoch 28/150\n",
      "\u001B[1m150/150\u001B[0m \u001B[32m━━━━━━━━━━━━━━━━━━━━\u001B[0m\u001B[37m\u001B[0m \u001B[1m0s\u001B[0m 796us/step - accuracy: 0.9965 - loss: 0.0266\n",
      "Epoch 29/150\n",
      "\u001B[1m150/150\u001B[0m \u001B[32m━━━━━━━━━━━━━━━━━━━━\u001B[0m\u001B[37m\u001B[0m \u001B[1m0s\u001B[0m 734us/step - accuracy: 0.9772 - loss: 0.0438\n",
      "Epoch 30/150\n",
      "\u001B[1m150/150\u001B[0m \u001B[32m━━━━━━━━━━━━━━━━━━━━\u001B[0m\u001B[37m\u001B[0m \u001B[1m0s\u001B[0m 780us/step - accuracy: 0.9937 - loss: 0.0331\n",
      "Epoch 31/150\n",
      "\u001B[1m150/150\u001B[0m \u001B[32m━━━━━━━━━━━━━━━━━━━━\u001B[0m\u001B[37m\u001B[0m \u001B[1m0s\u001B[0m 798us/step - accuracy: 0.9915 - loss: 0.0219\n",
      "Epoch 32/150\n",
      "\u001B[1m150/150\u001B[0m \u001B[32m━━━━━━━━━━━━━━━━━━━━\u001B[0m\u001B[37m\u001B[0m \u001B[1m0s\u001B[0m 777us/step - accuracy: 0.9882 - loss: 0.0238\n",
      "Epoch 33/150\n",
      "\u001B[1m150/150\u001B[0m \u001B[32m━━━━━━━━━━━━━━━━━━━━\u001B[0m\u001B[37m\u001B[0m \u001B[1m0s\u001B[0m 785us/step - accuracy: 0.9879 - loss: 0.0335\n",
      "Epoch 34/150\n",
      "\u001B[1m150/150\u001B[0m \u001B[32m━━━━━━━━━━━━━━━━━━━━\u001B[0m\u001B[37m\u001B[0m \u001B[1m0s\u001B[0m 768us/step - accuracy: 0.9932 - loss: 0.0285\n",
      "Epoch 35/150\n",
      "\u001B[1m150/150\u001B[0m \u001B[32m━━━━━━━━━━━━━━━━━━━━\u001B[0m\u001B[37m\u001B[0m \u001B[1m0s\u001B[0m 800us/step - accuracy: 0.9876 - loss: 0.0378\n",
      "Epoch 36/150\n",
      "\u001B[1m150/150\u001B[0m \u001B[32m━━━━━━━━━━━━━━━━━━━━\u001B[0m\u001B[37m\u001B[0m \u001B[1m0s\u001B[0m 781us/step - accuracy: 0.9907 - loss: 0.0332\n",
      "Epoch 37/150\n",
      "\u001B[1m150/150\u001B[0m \u001B[32m━━━━━━━━━━━━━━━━━━━━\u001B[0m\u001B[37m\u001B[0m \u001B[1m0s\u001B[0m 783us/step - accuracy: 0.9886 - loss: 0.0326\n",
      "Epoch 38/150\n",
      "\u001B[1m150/150\u001B[0m \u001B[32m━━━━━━━━━━━━━━━━━━━━\u001B[0m\u001B[37m\u001B[0m \u001B[1m0s\u001B[0m 777us/step - accuracy: 0.9904 - loss: 0.0383\n",
      "Epoch 39/150\n",
      "\u001B[1m150/150\u001B[0m \u001B[32m━━━━━━━━━━━━━━━━━━━━\u001B[0m\u001B[37m\u001B[0m \u001B[1m0s\u001B[0m 784us/step - accuracy: 0.9878 - loss: 0.0311\n",
      "Epoch 40/150\n",
      "\u001B[1m150/150\u001B[0m \u001B[32m━━━━━━━━━━━━━━━━━━━━\u001B[0m\u001B[37m\u001B[0m \u001B[1m0s\u001B[0m 790us/step - accuracy: 0.9947 - loss: 0.0182\n",
      "Epoch 41/150\n",
      "\u001B[1m150/150\u001B[0m \u001B[32m━━━━━━━━━━━━━━━━━━━━\u001B[0m\u001B[37m\u001B[0m \u001B[1m0s\u001B[0m 786us/step - accuracy: 0.9943 - loss: 0.0348\n",
      "Epoch 42/150\n",
      "\u001B[1m150/150\u001B[0m \u001B[32m━━━━━━━━━━━━━━━━━━━━\u001B[0m\u001B[37m\u001B[0m \u001B[1m0s\u001B[0m 784us/step - accuracy: 0.9659 - loss: 0.0610\n",
      "Epoch 43/150\n",
      "\u001B[1m150/150\u001B[0m \u001B[32m━━━━━━━━━━━━━━━━━━━━\u001B[0m\u001B[37m\u001B[0m \u001B[1m0s\u001B[0m 791us/step - accuracy: 0.9899 - loss: 0.0291\n",
      "Epoch 44/150\n",
      "\u001B[1m150/150\u001B[0m \u001B[32m━━━━━━━━━━━━━━━━━━━━\u001B[0m\u001B[37m\u001B[0m \u001B[1m0s\u001B[0m 775us/step - accuracy: 0.9901 - loss: 0.0241\n",
      "Epoch 45/150\n",
      "\u001B[1m150/150\u001B[0m \u001B[32m━━━━━━━━━━━━━━━━━━━━\u001B[0m\u001B[37m\u001B[0m \u001B[1m0s\u001B[0m 771us/step - accuracy: 0.9830 - loss: 0.0336\n",
      "Epoch 46/150\n",
      "\u001B[1m150/150\u001B[0m \u001B[32m━━━━━━━━━━━━━━━━━━━━\u001B[0m\u001B[37m\u001B[0m \u001B[1m0s\u001B[0m 776us/step - accuracy: 0.9474 - loss: 0.1134\n",
      "Epoch 47/150\n",
      "\u001B[1m150/150\u001B[0m \u001B[32m━━━━━━━━━━━━━━━━━━━━\u001B[0m\u001B[37m\u001B[0m \u001B[1m0s\u001B[0m 802us/step - accuracy: 0.9892 - loss: 0.0198\n",
      "Epoch 48/150\n",
      "\u001B[1m150/150\u001B[0m \u001B[32m━━━━━━━━━━━━━━━━━━━━\u001B[0m\u001B[37m\u001B[0m \u001B[1m0s\u001B[0m 782us/step - accuracy: 0.9927 - loss: 0.0164\n",
      "Epoch 49/150\n",
      "\u001B[1m150/150\u001B[0m \u001B[32m━━━━━━━━━━━━━━━━━━━━\u001B[0m\u001B[37m\u001B[0m \u001B[1m0s\u001B[0m 897us/step - accuracy: 1.0000 - loss: 0.0193\n",
      "Epoch 50/150\n",
      "\u001B[1m150/150\u001B[0m \u001B[32m━━━━━━━━━━━━━━━━━━━━\u001B[0m\u001B[37m\u001B[0m \u001B[1m0s\u001B[0m 675us/step - accuracy: 0.9577 - loss: 0.0960\n",
      "Epoch 51/150\n",
      "\u001B[1m150/150\u001B[0m \u001B[32m━━━━━━━━━━━━━━━━━━━━\u001B[0m\u001B[37m\u001B[0m \u001B[1m0s\u001B[0m 892us/step - accuracy: 0.9829 - loss: 0.0410\n",
      "Epoch 52/150\n",
      "\u001B[1m150/150\u001B[0m \u001B[32m━━━━━━━━━━━━━━━━━━━━\u001B[0m\u001B[37m\u001B[0m \u001B[1m0s\u001B[0m 787us/step - accuracy: 0.9921 - loss: 0.0243\n",
      "Epoch 53/150\n",
      "\u001B[1m150/150\u001B[0m \u001B[32m━━━━━━━━━━━━━━━━━━━━\u001B[0m\u001B[37m\u001B[0m \u001B[1m0s\u001B[0m 780us/step - accuracy: 0.9624 - loss: 0.0926\n",
      "Epoch 54/150\n",
      "\u001B[1m150/150\u001B[0m \u001B[32m━━━━━━━━━━━━━━━━━━━━\u001B[0m\u001B[37m\u001B[0m \u001B[1m0s\u001B[0m 812us/step - accuracy: 0.9976 - loss: 0.0112\n",
      "Epoch 55/150\n",
      "\u001B[1m150/150\u001B[0m \u001B[32m━━━━━━━━━━━━━━━━━━━━\u001B[0m\u001B[37m\u001B[0m \u001B[1m0s\u001B[0m 777us/step - accuracy: 0.9896 - loss: 0.0238\n",
      "Epoch 56/150\n",
      "\u001B[1m150/150\u001B[0m \u001B[32m━━━━━━━━━━━━━━━━━━━━\u001B[0m\u001B[37m\u001B[0m \u001B[1m0s\u001B[0m 763us/step - accuracy: 0.9837 - loss: 0.0352\n",
      "Epoch 57/150\n",
      "\u001B[1m150/150\u001B[0m \u001B[32m━━━━━━━━━━━━━━━━━━━━\u001B[0m\u001B[37m\u001B[0m \u001B[1m0s\u001B[0m 782us/step - accuracy: 0.9849 - loss: 0.0351\n",
      "Epoch 58/150\n",
      "\u001B[1m150/150\u001B[0m \u001B[32m━━━━━━━━━━━━━━━━━━━━\u001B[0m\u001B[37m\u001B[0m \u001B[1m0s\u001B[0m 780us/step - accuracy: 0.9981 - loss: 0.0075\n",
      "Epoch 59/150\n",
      "\u001B[1m150/150\u001B[0m \u001B[32m━━━━━━━━━━━━━━━━━━━━\u001B[0m\u001B[37m\u001B[0m \u001B[1m0s\u001B[0m 787us/step - accuracy: 0.9887 - loss: 0.0333\n",
      "Epoch 60/150\n",
      "\u001B[1m150/150\u001B[0m \u001B[32m━━━━━━━━━━━━━━━━━━━━\u001B[0m\u001B[37m\u001B[0m \u001B[1m0s\u001B[0m 784us/step - accuracy: 0.9914 - loss: 0.0200\n",
      "Epoch 61/150\n",
      "\u001B[1m150/150\u001B[0m \u001B[32m━━━━━━━━━━━━━━━━━━━━\u001B[0m\u001B[37m\u001B[0m \u001B[1m0s\u001B[0m 784us/step - accuracy: 0.9903 - loss: 0.0129\n",
      "Epoch 62/150\n",
      "\u001B[1m150/150\u001B[0m \u001B[32m━━━━━━━━━━━━━━━━━━━━\u001B[0m\u001B[37m\u001B[0m \u001B[1m0s\u001B[0m 823us/step - accuracy: 0.9855 - loss: 0.0362\n",
      "Epoch 63/150\n",
      "\u001B[1m150/150\u001B[0m \u001B[32m━━━━━━━━━━━━━━━━━━━━\u001B[0m\u001B[37m\u001B[0m \u001B[1m0s\u001B[0m 776us/step - accuracy: 0.9968 - loss: 0.0228\n",
      "Epoch 64/150\n",
      "\u001B[1m150/150\u001B[0m \u001B[32m━━━━━━━━━━━━━━━━━━━━\u001B[0m\u001B[37m\u001B[0m \u001B[1m0s\u001B[0m 781us/step - accuracy: 0.9831 - loss: 0.0518\n",
      "Epoch 65/150\n",
      "\u001B[1m150/150\u001B[0m \u001B[32m━━━━━━━━━━━━━━━━━━━━\u001B[0m\u001B[37m\u001B[0m \u001B[1m0s\u001B[0m 775us/step - accuracy: 0.9969 - loss: 0.0123\n",
      "Epoch 66/150\n",
      "\u001B[1m150/150\u001B[0m \u001B[32m━━━━━━━━━━━━━━━━━━━━\u001B[0m\u001B[37m\u001B[0m \u001B[1m0s\u001B[0m 808us/step - accuracy: 0.9834 - loss: 0.0265\n",
      "Epoch 67/150\n",
      "\u001B[1m150/150\u001B[0m \u001B[32m━━━━━━━━━━━━━━━━━━━━\u001B[0m\u001B[37m\u001B[0m \u001B[1m0s\u001B[0m 846us/step - accuracy: 0.9500 - loss: 0.0960\n",
      "Epoch 68/150\n",
      "\u001B[1m150/150\u001B[0m \u001B[32m━━━━━━━━━━━━━━━━━━━━\u001B[0m\u001B[37m\u001B[0m \u001B[1m0s\u001B[0m 784us/step - accuracy: 0.9914 - loss: 0.0359\n",
      "Epoch 69/150\n",
      "\u001B[1m150/150\u001B[0m \u001B[32m━━━━━━━━━━━━━━━━━━━━\u001B[0m\u001B[37m\u001B[0m \u001B[1m0s\u001B[0m 777us/step - accuracy: 0.9840 - loss: 0.0272\n",
      "Epoch 70/150\n",
      "\u001B[1m150/150\u001B[0m \u001B[32m━━━━━━━━━━━━━━━━━━━━\u001B[0m\u001B[37m\u001B[0m \u001B[1m0s\u001B[0m 883us/step - accuracy: 0.9749 - loss: 0.0538\n",
      "Epoch 71/150\n",
      "\u001B[1m150/150\u001B[0m \u001B[32m━━━━━━━━━━━━━━━━━━━━\u001B[0m\u001B[37m\u001B[0m \u001B[1m0s\u001B[0m 765us/step - accuracy: 0.9960 - loss: 0.0222\n",
      "Epoch 72/150\n",
      "\u001B[1m150/150\u001B[0m \u001B[32m━━━━━━━━━━━━━━━━━━━━\u001B[0m\u001B[37m\u001B[0m \u001B[1m0s\u001B[0m 785us/step - accuracy: 0.9949 - loss: 0.0176\n",
      "Epoch 73/150\n",
      "\u001B[1m150/150\u001B[0m \u001B[32m━━━━━━━━━━━━━━━━━━━━\u001B[0m\u001B[37m\u001B[0m \u001B[1m0s\u001B[0m 789us/step - accuracy: 0.9948 - loss: 0.0110\n",
      "Epoch 74/150\n",
      "\u001B[1m150/150\u001B[0m \u001B[32m━━━━━━━━━━━━━━━━━━━━\u001B[0m\u001B[37m\u001B[0m \u001B[1m0s\u001B[0m 753us/step - accuracy: 0.9920 - loss: 0.0159\n",
      "Epoch 75/150\n",
      "\u001B[1m150/150\u001B[0m \u001B[32m━━━━━━━━━━━━━━━━━━━━\u001B[0m\u001B[37m\u001B[0m \u001B[1m0s\u001B[0m 898us/step - accuracy: 0.9817 - loss: 0.0339\n",
      "Epoch 76/150\n",
      "\u001B[1m150/150\u001B[0m \u001B[32m━━━━━━━━━━━━━━━━━━━━\u001B[0m\u001B[37m\u001B[0m \u001B[1m0s\u001B[0m 836us/step - accuracy: 0.9909 - loss: 0.0140\n",
      "Epoch 77/150\n",
      "\u001B[1m150/150\u001B[0m \u001B[32m━━━━━━━━━━━━━━━━━━━━\u001B[0m\u001B[37m\u001B[0m \u001B[1m0s\u001B[0m 780us/step - accuracy: 0.9852 - loss: 0.0179\n",
      "Epoch 78/150\n",
      "\u001B[1m150/150\u001B[0m \u001B[32m━━━━━━━━━━━━━━━━━━━━\u001B[0m\u001B[37m\u001B[0m \u001B[1m0s\u001B[0m 775us/step - accuracy: 0.9741 - loss: 0.0345\n",
      "Epoch 79/150\n",
      "\u001B[1m150/150\u001B[0m \u001B[32m━━━━━━━━━━━━━━━━━━━━\u001B[0m\u001B[37m\u001B[0m \u001B[1m0s\u001B[0m 885us/step - accuracy: 0.9791 - loss: 0.0372\n",
      "Epoch 80/150\n",
      "\u001B[1m150/150\u001B[0m \u001B[32m━━━━━━━━━━━━━━━━━━━━\u001B[0m\u001B[37m\u001B[0m \u001B[1m0s\u001B[0m 832us/step - accuracy: 0.9921 - loss: 0.0124\n",
      "Epoch 81/150\n",
      "\u001B[1m150/150\u001B[0m \u001B[32m━━━━━━━━━━━━━━━━━━━━\u001B[0m\u001B[37m\u001B[0m \u001B[1m0s\u001B[0m 807us/step - accuracy: 0.9905 - loss: 0.0206\n",
      "Epoch 82/150\n",
      "\u001B[1m150/150\u001B[0m \u001B[32m━━━━━━━━━━━━━━━━━━━━\u001B[0m\u001B[37m\u001B[0m \u001B[1m0s\u001B[0m 763us/step - accuracy: 0.9990 - loss: 0.0135\n",
      "Epoch 83/150\n",
      "\u001B[1m150/150\u001B[0m \u001B[32m━━━━━━━━━━━━━━━━━━━━\u001B[0m\u001B[37m\u001B[0m \u001B[1m0s\u001B[0m 790us/step - accuracy: 0.9768 - loss: 0.0284\n",
      "Epoch 84/150\n",
      "\u001B[1m150/150\u001B[0m \u001B[32m━━━━━━━━━━━━━━━━━━━━\u001B[0m\u001B[37m\u001B[0m \u001B[1m0s\u001B[0m 781us/step - accuracy: 0.9917 - loss: 0.0223\n",
      "Epoch 85/150\n",
      "\u001B[1m150/150\u001B[0m \u001B[32m━━━━━━━━━━━━━━━━━━━━\u001B[0m\u001B[37m\u001B[0m \u001B[1m0s\u001B[0m 769us/step - accuracy: 0.9993 - loss: 0.0065\n",
      "Epoch 86/150\n",
      "\u001B[1m150/150\u001B[0m \u001B[32m━━━━━━━━━━━━━━━━━━━━\u001B[0m\u001B[37m\u001B[0m \u001B[1m0s\u001B[0m 748us/step - accuracy: 0.9730 - loss: 0.0345\n",
      "Epoch 87/150\n",
      "\u001B[1m150/150\u001B[0m \u001B[32m━━━━━━━━━━━━━━━━━━━━\u001B[0m\u001B[37m\u001B[0m \u001B[1m0s\u001B[0m 793us/step - accuracy: 0.9970 - loss: 0.0148\n",
      "Epoch 88/150\n",
      "\u001B[1m150/150\u001B[0m \u001B[32m━━━━━━━━━━━━━━━━━━━━\u001B[0m\u001B[37m\u001B[0m \u001B[1m0s\u001B[0m 875us/step - accuracy: 0.9949 - loss: 0.0171\n",
      "Epoch 89/150\n",
      "\u001B[1m150/150\u001B[0m \u001B[32m━━━━━━━━━━━━━━━━━━━━\u001B[0m\u001B[37m\u001B[0m \u001B[1m0s\u001B[0m 692us/step - accuracy: 0.9939 - loss: 0.0175\n",
      "Epoch 90/150\n",
      "\u001B[1m150/150\u001B[0m \u001B[32m━━━━━━━━━━━━━━━━━━━━\u001B[0m\u001B[37m\u001B[0m \u001B[1m0s\u001B[0m 791us/step - accuracy: 0.9867 - loss: 0.0176\n",
      "Epoch 91/150\n",
      "\u001B[1m150/150\u001B[0m \u001B[32m━━━━━━━━━━━━━━━━━━━━\u001B[0m\u001B[37m\u001B[0m \u001B[1m0s\u001B[0m 836us/step - accuracy: 0.9993 - loss: 0.0044\n",
      "Epoch 92/150\n",
      "\u001B[1m150/150\u001B[0m \u001B[32m━━━━━━━━━━━━━━━━━━━━\u001B[0m\u001B[37m\u001B[0m \u001B[1m0s\u001B[0m 779us/step - accuracy: 0.9590 - loss: 0.0398\n",
      "Epoch 93/150\n",
      "\u001B[1m150/150\u001B[0m \u001B[32m━━━━━━━━━━━━━━━━━━━━\u001B[0m\u001B[37m\u001B[0m \u001B[1m0s\u001B[0m 783us/step - accuracy: 0.9942 - loss: 0.0091\n",
      "Epoch 94/150\n",
      "\u001B[1m150/150\u001B[0m \u001B[32m━━━━━━━━━━━━━━━━━━━━\u001B[0m\u001B[37m\u001B[0m \u001B[1m0s\u001B[0m 797us/step - accuracy: 0.9987 - loss: 0.0058\n",
      "Epoch 95/150\n",
      "\u001B[1m150/150\u001B[0m \u001B[32m━━━━━━━━━━━━━━━━━━━━\u001B[0m\u001B[37m\u001B[0m \u001B[1m0s\u001B[0m 808us/step - accuracy: 0.9930 - loss: 0.0128\n",
      "Epoch 96/150\n",
      "\u001B[1m150/150\u001B[0m \u001B[32m━━━━━━━━━━━━━━━━━━━━\u001B[0m\u001B[37m\u001B[0m \u001B[1m0s\u001B[0m 800us/step - accuracy: 0.9998 - loss: 0.0094\n",
      "Epoch 97/150\n",
      "\u001B[1m150/150\u001B[0m \u001B[32m━━━━━━━━━━━━━━━━━━━━\u001B[0m\u001B[37m\u001B[0m \u001B[1m0s\u001B[0m 908us/step - accuracy: 0.9997 - loss: 0.0071\n",
      "Epoch 98/150\n",
      "\u001B[1m150/150\u001B[0m \u001B[32m━━━━━━━━━━━━━━━━━━━━\u001B[0m\u001B[37m\u001B[0m \u001B[1m0s\u001B[0m 793us/step - accuracy: 0.9966 - loss: 0.0107\n",
      "Epoch 99/150\n",
      "\u001B[1m150/150\u001B[0m \u001B[32m━━━━━━━━━━━━━━━━━━━━\u001B[0m\u001B[37m\u001B[0m \u001B[1m0s\u001B[0m 825us/step - accuracy: 0.9923 - loss: 0.0134\n",
      "Epoch 100/150\n",
      "\u001B[1m150/150\u001B[0m \u001B[32m━━━━━━━━━━━━━━━━━━━━\u001B[0m\u001B[37m\u001B[0m \u001B[1m0s\u001B[0m 782us/step - accuracy: 0.9913 - loss: 0.0240\n",
      "Epoch 101/150\n",
      "\u001B[1m150/150\u001B[0m \u001B[32m━━━━━━━━━━━━━━━━━━━━\u001B[0m\u001B[37m\u001B[0m \u001B[1m0s\u001B[0m 787us/step - accuracy: 0.9927 - loss: 0.0171\n",
      "Epoch 102/150\n",
      "\u001B[1m150/150\u001B[0m \u001B[32m━━━━━━━━━━━━━━━━━━━━\u001B[0m\u001B[37m\u001B[0m \u001B[1m0s\u001B[0m 784us/step - accuracy: 0.9996 - loss: 0.0243\n",
      "Epoch 103/150\n",
      "\u001B[1m150/150\u001B[0m \u001B[32m━━━━━━━━━━━━━━━━━━━━\u001B[0m\u001B[37m\u001B[0m \u001B[1m0s\u001B[0m 754us/step - accuracy: 0.9931 - loss: 0.0290\n",
      "Epoch 104/150\n",
      "\u001B[1m150/150\u001B[0m \u001B[32m━━━━━━━━━━━━━━━━━━━━\u001B[0m\u001B[37m\u001B[0m \u001B[1m0s\u001B[0m 886us/step - accuracy: 0.9992 - loss: 0.0054\n",
      "Epoch 105/150\n",
      "\u001B[1m150/150\u001B[0m \u001B[32m━━━━━━━━━━━━━━━━━━━━\u001B[0m\u001B[37m\u001B[0m \u001B[1m0s\u001B[0m 769us/step - accuracy: 0.9982 - loss: 0.0085\n",
      "Epoch 106/150\n",
      "\u001B[1m150/150\u001B[0m \u001B[32m━━━━━━━━━━━━━━━━━━━━\u001B[0m\u001B[37m\u001B[0m \u001B[1m0s\u001B[0m 786us/step - accuracy: 0.9930 - loss: 0.0137\n",
      "Epoch 107/150\n",
      "\u001B[1m150/150\u001B[0m \u001B[32m━━━━━━━━━━━━━━━━━━━━\u001B[0m\u001B[37m\u001B[0m \u001B[1m0s\u001B[0m 844us/step - accuracy: 0.9979 - loss: 0.0120\n",
      "Epoch 108/150\n",
      "\u001B[1m150/150\u001B[0m \u001B[32m━━━━━━━━━━━━━━━━━━━━\u001B[0m\u001B[37m\u001B[0m \u001B[1m0s\u001B[0m 797us/step - accuracy: 0.9771 - loss: 0.0241\n",
      "Epoch 109/150\n",
      "\u001B[1m150/150\u001B[0m \u001B[32m━━━━━━━━━━━━━━━━━━━━\u001B[0m\u001B[37m\u001B[0m \u001B[1m0s\u001B[0m 805us/step - accuracy: 0.9978 - loss: 0.0085\n",
      "Epoch 110/150\n",
      "\u001B[1m150/150\u001B[0m \u001B[32m━━━━━━━━━━━━━━━━━━━━\u001B[0m\u001B[37m\u001B[0m \u001B[1m0s\u001B[0m 741us/step - accuracy: 0.9835 - loss: 0.0232\n",
      "Epoch 111/150\n",
      "\u001B[1m150/150\u001B[0m \u001B[32m━━━━━━━━━━━━━━━━━━━━\u001B[0m\u001B[37m\u001B[0m \u001B[1m0s\u001B[0m 807us/step - accuracy: 0.9978 - loss: 0.0152\n",
      "Epoch 112/150\n",
      "\u001B[1m150/150\u001B[0m \u001B[32m━━━━━━━━━━━━━━━━━━━━\u001B[0m\u001B[37m\u001B[0m \u001B[1m0s\u001B[0m 770us/step - accuracy: 1.0000 - loss: 0.0056\n",
      "Epoch 113/150\n",
      "\u001B[1m150/150\u001B[0m \u001B[32m━━━━━━━━━━━━━━━━━━━━\u001B[0m\u001B[37m\u001B[0m \u001B[1m0s\u001B[0m 889us/step - accuracy: 0.9998 - loss: 0.0038\n",
      "Epoch 114/150\n",
      "\u001B[1m150/150\u001B[0m \u001B[32m━━━━━━━━━━━━━━━━━━━━\u001B[0m\u001B[37m\u001B[0m \u001B[1m0s\u001B[0m 795us/step - accuracy: 0.9938 - loss: 0.0166\n",
      "Epoch 115/150\n",
      "\u001B[1m150/150\u001B[0m \u001B[32m━━━━━━━━━━━━━━━━━━━━\u001B[0m\u001B[37m\u001B[0m \u001B[1m0s\u001B[0m 866us/step - accuracy: 1.0000 - loss: 0.0042\n",
      "Epoch 116/150\n",
      "\u001B[1m150/150\u001B[0m \u001B[32m━━━━━━━━━━━━━━━━━━━━\u001B[0m\u001B[37m\u001B[0m \u001B[1m0s\u001B[0m 830us/step - accuracy: 0.9948 - loss: 0.0143\n",
      "Epoch 117/150\n",
      "\u001B[1m150/150\u001B[0m \u001B[32m━━━━━━━━━━━━━━━━━━━━\u001B[0m\u001B[37m\u001B[0m \u001B[1m0s\u001B[0m 800us/step - accuracy: 1.0000 - loss: 0.0040\n",
      "Epoch 118/150\n",
      "\u001B[1m150/150\u001B[0m \u001B[32m━━━━━━━━━━━━━━━━━━━━\u001B[0m\u001B[37m\u001B[0m \u001B[1m0s\u001B[0m 784us/step - accuracy: 1.0000 - loss: 0.0051\n",
      "Epoch 119/150\n",
      "\u001B[1m150/150\u001B[0m \u001B[32m━━━━━━━━━━━━━━━━━━━━\u001B[0m\u001B[37m\u001B[0m \u001B[1m0s\u001B[0m 786us/step - accuracy: 0.9955 - loss: 0.0070\n",
      "Epoch 120/150\n",
      "\u001B[1m150/150\u001B[0m \u001B[32m━━━━━━━━━━━━━━━━━━━━\u001B[0m\u001B[37m\u001B[0m \u001B[1m0s\u001B[0m 786us/step - accuracy: 1.0000 - loss: 0.0051\n",
      "Epoch 121/150\n",
      "\u001B[1m150/150\u001B[0m \u001B[32m━━━━━━━━━━━━━━━━━━━━\u001B[0m\u001B[37m\u001B[0m \u001B[1m0s\u001B[0m 779us/step - accuracy: 1.0000 - loss: 0.0047\n",
      "Epoch 122/150\n",
      "\u001B[1m150/150\u001B[0m \u001B[32m━━━━━━━━━━━━━━━━━━━━\u001B[0m\u001B[37m\u001B[0m \u001B[1m0s\u001B[0m 770us/step - accuracy: 1.0000 - loss: 0.0028    \n",
      "Epoch 123/150\n",
      "\u001B[1m150/150\u001B[0m \u001B[32m━━━━━━━━━━━━━━━━━━━━\u001B[0m\u001B[37m\u001B[0m \u001B[1m0s\u001B[0m 750us/step - accuracy: 1.0000 - loss: 0.0085\n",
      "Epoch 124/150\n",
      "\u001B[1m150/150\u001B[0m \u001B[32m━━━━━━━━━━━━━━━━━━━━\u001B[0m\u001B[37m\u001B[0m \u001B[1m0s\u001B[0m 778us/step - accuracy: 1.0000 - loss: 0.0101\n",
      "Epoch 125/150\n",
      "\u001B[1m150/150\u001B[0m \u001B[32m━━━━━━━━━━━━━━━━━━━━\u001B[0m\u001B[37m\u001B[0m \u001B[1m0s\u001B[0m 732us/step - accuracy: 1.0000 - loss: 0.0114\n",
      "Epoch 126/150\n",
      "\u001B[1m150/150\u001B[0m \u001B[32m━━━━━━━━━━━━━━━━━━━━\u001B[0m\u001B[37m\u001B[0m \u001B[1m0s\u001B[0m 789us/step - accuracy: 0.9975 - loss: 0.0040\n",
      "Epoch 127/150\n",
      "\u001B[1m150/150\u001B[0m \u001B[32m━━━━━━━━━━━━━━━━━━━━\u001B[0m\u001B[37m\u001B[0m \u001B[1m0s\u001B[0m 871us/step - accuracy: 1.0000 - loss: 0.0045\n",
      "Epoch 128/150\n",
      "\u001B[1m150/150\u001B[0m \u001B[32m━━━━━━━━━━━━━━━━━━━━\u001B[0m\u001B[37m\u001B[0m \u001B[1m0s\u001B[0m 784us/step - accuracy: 0.9696 - loss: 0.0247\n",
      "Epoch 129/150\n",
      "\u001B[1m150/150\u001B[0m \u001B[32m━━━━━━━━━━━━━━━━━━━━\u001B[0m\u001B[37m\u001B[0m \u001B[1m0s\u001B[0m 784us/step - accuracy: 1.0000 - loss: 0.0042\n",
      "Epoch 130/150\n",
      "\u001B[1m150/150\u001B[0m \u001B[32m━━━━━━━━━━━━━━━━━━━━\u001B[0m\u001B[37m\u001B[0m \u001B[1m0s\u001B[0m 711us/step - accuracy: 0.9995 - loss: 0.0060\n",
      "Epoch 131/150\n",
      "\u001B[1m150/150\u001B[0m \u001B[32m━━━━━━━━━━━━━━━━━━━━\u001B[0m\u001B[37m\u001B[0m \u001B[1m0s\u001B[0m 880us/step - accuracy: 1.0000 - loss: 0.0071\n",
      "Epoch 132/150\n",
      "\u001B[1m150/150\u001B[0m \u001B[32m━━━━━━━━━━━━━━━━━━━━\u001B[0m\u001B[37m\u001B[0m \u001B[1m0s\u001B[0m 783us/step - accuracy: 0.9984 - loss: 0.0046\n",
      "Epoch 133/150\n",
      "\u001B[1m150/150\u001B[0m \u001B[32m━━━━━━━━━━━━━━━━━━━━\u001B[0m\u001B[37m\u001B[0m \u001B[1m0s\u001B[0m 774us/step - accuracy: 0.9960 - loss: 0.0056\n",
      "Epoch 134/150\n",
      "\u001B[1m150/150\u001B[0m \u001B[32m━━━━━━━━━━━━━━━━━━━━\u001B[0m\u001B[37m\u001B[0m \u001B[1m0s\u001B[0m 832us/step - accuracy: 1.0000 - loss: 0.0046\n",
      "Epoch 135/150\n",
      "\u001B[1m150/150\u001B[0m \u001B[32m━━━━━━━━━━━━━━━━━━━━\u001B[0m\u001B[37m\u001B[0m \u001B[1m0s\u001B[0m 791us/step - accuracy: 1.0000 - loss: 0.0121\n",
      "Epoch 136/150\n",
      "\u001B[1m150/150\u001B[0m \u001B[32m━━━━━━━━━━━━━━━━━━━━\u001B[0m\u001B[37m\u001B[0m \u001B[1m0s\u001B[0m 781us/step - accuracy: 1.0000 - loss: 0.0027\n",
      "Epoch 137/150\n",
      "\u001B[1m150/150\u001B[0m \u001B[32m━━━━━━━━━━━━━━━━━━━━\u001B[0m\u001B[37m\u001B[0m \u001B[1m0s\u001B[0m 787us/step - accuracy: 0.9913 - loss: 0.0103\n",
      "Epoch 138/150\n",
      "\u001B[1m150/150\u001B[0m \u001B[32m━━━━━━━━━━━━━━━━━━━━\u001B[0m\u001B[37m\u001B[0m \u001B[1m0s\u001B[0m 783us/step - accuracy: 1.0000 - loss: 0.0063\n",
      "Epoch 139/150\n",
      "\u001B[1m150/150\u001B[0m \u001B[32m━━━━━━━━━━━━━━━━━━━━\u001B[0m\u001B[37m\u001B[0m \u001B[1m0s\u001B[0m 774us/step - accuracy: 1.0000 - loss: 0.0044\n",
      "Epoch 140/150\n",
      "\u001B[1m150/150\u001B[0m \u001B[32m━━━━━━━━━━━━━━━━━━━━\u001B[0m\u001B[37m\u001B[0m \u001B[1m0s\u001B[0m 833us/step - accuracy: 1.0000 - loss: 0.0041\n",
      "Epoch 141/150\n",
      "\u001B[1m150/150\u001B[0m \u001B[32m━━━━━━━━━━━━━━━━━━━━\u001B[0m\u001B[37m\u001B[0m \u001B[1m0s\u001B[0m 736us/step - accuracy: 1.0000 - loss: 0.0058\n",
      "Epoch 142/150\n",
      "\u001B[1m150/150\u001B[0m \u001B[32m━━━━━━━━━━━━━━━━━━━━\u001B[0m\u001B[37m\u001B[0m \u001B[1m0s\u001B[0m 882us/step - accuracy: 1.0000 - loss: 0.0061\n",
      "Epoch 143/150\n",
      "\u001B[1m150/150\u001B[0m \u001B[32m━━━━━━━━━━━━━━━━━━━━\u001B[0m\u001B[37m\u001B[0m \u001B[1m0s\u001B[0m 759us/step - accuracy: 1.0000 - loss: 0.0052\n",
      "Epoch 144/150\n",
      "\u001B[1m150/150\u001B[0m \u001B[32m━━━━━━━━━━━━━━━━━━━━\u001B[0m\u001B[37m\u001B[0m \u001B[1m0s\u001B[0m 776us/step - accuracy: 1.0000 - loss: 0.0028\n",
      "Epoch 145/150\n",
      "\u001B[1m150/150\u001B[0m \u001B[32m━━━━━━━━━━━━━━━━━━━━\u001B[0m\u001B[37m\u001B[0m \u001B[1m0s\u001B[0m 836us/step - accuracy: 1.0000 - loss: 0.0036\n",
      "Epoch 146/150\n",
      "\u001B[1m150/150\u001B[0m \u001B[32m━━━━━━━━━━━━━━━━━━━━\u001B[0m\u001B[37m\u001B[0m \u001B[1m0s\u001B[0m 780us/step - accuracy: 1.0000 - loss: 0.0125\n",
      "Epoch 147/150\n",
      "\u001B[1m150/150\u001B[0m \u001B[32m━━━━━━━━━━━━━━━━━━━━\u001B[0m\u001B[37m\u001B[0m \u001B[1m0s\u001B[0m 777us/step - accuracy: 0.9975 - loss: 0.0060\n",
      "Epoch 148/150\n",
      "\u001B[1m150/150\u001B[0m \u001B[32m━━━━━━━━━━━━━━━━━━━━\u001B[0m\u001B[37m\u001B[0m \u001B[1m0s\u001B[0m 849us/step - accuracy: 0.9879 - loss: 0.0132\n",
      "Epoch 149/150\n",
      "\u001B[1m150/150\u001B[0m \u001B[32m━━━━━━━━━━━━━━━━━━━━\u001B[0m\u001B[37m\u001B[0m \u001B[1m0s\u001B[0m 714us/step - accuracy: 1.0000 - loss: 0.0041\n",
      "Epoch 150/150\n",
      "\u001B[1m150/150\u001B[0m \u001B[32m━━━━━━━━━━━━━━━━━━━━\u001B[0m\u001B[37m\u001B[0m \u001B[1m0s\u001B[0m 901us/step - accuracy: 1.0000 - loss: 6.8601e-04\n"
     ]
    },
    {
     "data": {
      "text/plain": [
       "<keras.src.callbacks.history.History at 0x23c42d41100>"
      ]
     },
     "execution_count": 824,
     "metadata": {},
     "output_type": "execute_result"
    }
   ],
   "execution_count": 824
  },
  {
   "metadata": {
    "ExecuteTime": {
     "end_time": "2024-12-15T14:17:52.788107Z",
     "start_time": "2024-12-15T14:17:52.768024Z"
    }
   },
   "cell_type": "code",
   "source": "md.summary()",
   "id": "611364642539cf1f",
   "outputs": [
    {
     "data": {
      "text/plain": [
       "\u001B[1mModel: \"sequential_115\"\u001B[0m\n"
      ],
      "text/html": [
       "<pre style=\"white-space:pre;overflow-x:auto;line-height:normal;font-family:Menlo,'DejaVu Sans Mono',consolas,'Courier New',monospace\"><span style=\"font-weight: bold\">Model: \"sequential_115\"</span>\n",
       "</pre>\n"
      ]
     },
     "metadata": {},
     "output_type": "display_data"
    },
    {
     "data": {
      "text/plain": [
       "┏━━━━━━━━━━━━━━━━━━━━━━━━━━━━━━━━━┳━━━━━━━━━━━━━━━━━━━━━━━━┳━━━━━━━━━━━━━━━┓\n",
       "┃\u001B[1m \u001B[0m\u001B[1mLayer (type)                   \u001B[0m\u001B[1m \u001B[0m┃\u001B[1m \u001B[0m\u001B[1mOutput Shape          \u001B[0m\u001B[1m \u001B[0m┃\u001B[1m \u001B[0m\u001B[1m      Param #\u001B[0m\u001B[1m \u001B[0m┃\n",
       "┡━━━━━━━━━━━━━━━━━━━━━━━━━━━━━━━━━╇━━━━━━━━━━━━━━━━━━━━━━━━╇━━━━━━━━━━━━━━━┩\n",
       "│ dense_396 (\u001B[38;5;33mDense\u001B[0m)               │ (\u001B[38;5;34m1\u001B[0m, \u001B[38;5;34m4\u001B[0m)                 │            \u001B[38;5;34m20\u001B[0m │\n",
       "├─────────────────────────────────┼────────────────────────┼───────────────┤\n",
       "│ dense_397 (\u001B[38;5;33mDense\u001B[0m)               │ (\u001B[38;5;34m1\u001B[0m, \u001B[38;5;34m16\u001B[0m)                │            \u001B[38;5;34m80\u001B[0m │\n",
       "├─────────────────────────────────┼────────────────────────┼───────────────┤\n",
       "│ dense_398 (\u001B[38;5;33mDense\u001B[0m)               │ (\u001B[38;5;34m1\u001B[0m, \u001B[38;5;34m32\u001B[0m)                │           \u001B[38;5;34m544\u001B[0m │\n",
       "├─────────────────────────────────┼────────────────────────┼───────────────┤\n",
       "│ dense_399 (\u001B[38;5;33mDense\u001B[0m)               │ (\u001B[38;5;34m1\u001B[0m, \u001B[38;5;34m3\u001B[0m)                 │            \u001B[38;5;34m99\u001B[0m │\n",
       "└─────────────────────────────────┴────────────────────────┴───────────────┘\n"
      ],
      "text/html": [
       "<pre style=\"white-space:pre;overflow-x:auto;line-height:normal;font-family:Menlo,'DejaVu Sans Mono',consolas,'Courier New',monospace\">┏━━━━━━━━━━━━━━━━━━━━━━━━━━━━━━━━━┳━━━━━━━━━━━━━━━━━━━━━━━━┳━━━━━━━━━━━━━━━┓\n",
       "┃<span style=\"font-weight: bold\"> Layer (type)                    </span>┃<span style=\"font-weight: bold\"> Output Shape           </span>┃<span style=\"font-weight: bold\">       Param # </span>┃\n",
       "┡━━━━━━━━━━━━━━━━━━━━━━━━━━━━━━━━━╇━━━━━━━━━━━━━━━━━━━━━━━━╇━━━━━━━━━━━━━━━┩\n",
       "│ dense_396 (<span style=\"color: #0087ff; text-decoration-color: #0087ff\">Dense</span>)               │ (<span style=\"color: #00af00; text-decoration-color: #00af00\">1</span>, <span style=\"color: #00af00; text-decoration-color: #00af00\">4</span>)                 │            <span style=\"color: #00af00; text-decoration-color: #00af00\">20</span> │\n",
       "├─────────────────────────────────┼────────────────────────┼───────────────┤\n",
       "│ dense_397 (<span style=\"color: #0087ff; text-decoration-color: #0087ff\">Dense</span>)               │ (<span style=\"color: #00af00; text-decoration-color: #00af00\">1</span>, <span style=\"color: #00af00; text-decoration-color: #00af00\">16</span>)                │            <span style=\"color: #00af00; text-decoration-color: #00af00\">80</span> │\n",
       "├─────────────────────────────────┼────────────────────────┼───────────────┤\n",
       "│ dense_398 (<span style=\"color: #0087ff; text-decoration-color: #0087ff\">Dense</span>)               │ (<span style=\"color: #00af00; text-decoration-color: #00af00\">1</span>, <span style=\"color: #00af00; text-decoration-color: #00af00\">32</span>)                │           <span style=\"color: #00af00; text-decoration-color: #00af00\">544</span> │\n",
       "├─────────────────────────────────┼────────────────────────┼───────────────┤\n",
       "│ dense_399 (<span style=\"color: #0087ff; text-decoration-color: #0087ff\">Dense</span>)               │ (<span style=\"color: #00af00; text-decoration-color: #00af00\">1</span>, <span style=\"color: #00af00; text-decoration-color: #00af00\">3</span>)                 │            <span style=\"color: #00af00; text-decoration-color: #00af00\">99</span> │\n",
       "└─────────────────────────────────┴────────────────────────┴───────────────┘\n",
       "</pre>\n"
      ]
     },
     "metadata": {},
     "output_type": "display_data"
    },
    {
     "data": {
      "text/plain": [
       "\u001B[1m Total params: \u001B[0m\u001B[38;5;34m2,231\u001B[0m (8.72 KB)\n"
      ],
      "text/html": [
       "<pre style=\"white-space:pre;overflow-x:auto;line-height:normal;font-family:Menlo,'DejaVu Sans Mono',consolas,'Courier New',monospace\"><span style=\"font-weight: bold\"> Total params: </span><span style=\"color: #00af00; text-decoration-color: #00af00\">2,231</span> (8.72 KB)\n",
       "</pre>\n"
      ]
     },
     "metadata": {},
     "output_type": "display_data"
    },
    {
     "data": {
      "text/plain": [
       "\u001B[1m Trainable params: \u001B[0m\u001B[38;5;34m743\u001B[0m (2.90 KB)\n"
      ],
      "text/html": [
       "<pre style=\"white-space:pre;overflow-x:auto;line-height:normal;font-family:Menlo,'DejaVu Sans Mono',consolas,'Courier New',monospace\"><span style=\"font-weight: bold\"> Trainable params: </span><span style=\"color: #00af00; text-decoration-color: #00af00\">743</span> (2.90 KB)\n",
       "</pre>\n"
      ]
     },
     "metadata": {},
     "output_type": "display_data"
    },
    {
     "data": {
      "text/plain": [
       "\u001B[1m Non-trainable params: \u001B[0m\u001B[38;5;34m0\u001B[0m (0.00 B)\n"
      ],
      "text/html": [
       "<pre style=\"white-space:pre;overflow-x:auto;line-height:normal;font-family:Menlo,'DejaVu Sans Mono',consolas,'Courier New',monospace\"><span style=\"font-weight: bold\"> Non-trainable params: </span><span style=\"color: #00af00; text-decoration-color: #00af00\">0</span> (0.00 B)\n",
       "</pre>\n"
      ]
     },
     "metadata": {},
     "output_type": "display_data"
    },
    {
     "data": {
      "text/plain": [
       "\u001B[1m Optimizer params: \u001B[0m\u001B[38;5;34m1,488\u001B[0m (5.82 KB)\n"
      ],
      "text/html": [
       "<pre style=\"white-space:pre;overflow-x:auto;line-height:normal;font-family:Menlo,'DejaVu Sans Mono',consolas,'Courier New',monospace\"><span style=\"font-weight: bold\"> Optimizer params: </span><span style=\"color: #00af00; text-decoration-color: #00af00\">1,488</span> (5.82 KB)\n",
       "</pre>\n"
      ]
     },
     "metadata": {},
     "output_type": "display_data"
    }
   ],
   "execution_count": 825
  }
 ],
 "metadata": {
  "kernelspec": {
   "display_name": "Python 3",
   "language": "python",
   "name": "python3"
  },
  "language_info": {
   "codemirror_mode": {
    "name": "ipython",
    "version": 2
   },
   "file_extension": ".py",
   "mimetype": "text/x-python",
   "name": "python",
   "nbconvert_exporter": "python",
   "pygments_lexer": "ipython2",
   "version": "2.7.6"
  }
 },
 "nbformat": 4,
 "nbformat_minor": 5
}
